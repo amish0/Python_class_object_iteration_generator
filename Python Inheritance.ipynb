{
 "cells": [
  {
   "cell_type": "markdown",
   "metadata": {},
   "source": [
    "# Python Inheritance\n",
    "\n",
    "Inheritance allows us to define a class that inherits all the methods and properties from another class. Parent class is the class being inherited from, also called base class. Child class is the class that inherits from another class, also called derived class."
   ]
  },
  {
   "cell_type": "markdown",
   "metadata": {},
   "source": [
    "## Create a Parent Class\n",
    "\n",
    "Any class can be a parent class, so the syntax is the same as creating any other class:"
   ]
  },
  {
   "cell_type": "code",
   "execution_count": 69,
   "metadata": {},
   "outputs": [],
   "source": [
    "class Person:\n",
    "    def __init__(self,fname,lname,age):\n",
    "        self.fname=fname\n",
    "        self.lname=lname\n",
    "        self.age=age\n",
    "    def mynameage(self):\n",
    "        print('My name: {} {}'.format(self.fname,self.lname))\n",
    "        print('age: {}'.format(self.age))    "
   ]
  },
  {
   "cell_type": "code",
   "execution_count": 70,
   "metadata": {},
   "outputs": [],
   "source": [
    "p1=Person('amish','kumar',30)"
   ]
  },
  {
   "cell_type": "code",
   "execution_count": 71,
   "metadata": {},
   "outputs": [
    {
     "name": "stdout",
     "output_type": "stream",
     "text": [
      "My name: amish kumar\n",
      "age: 30\n"
     ]
    }
   ],
   "source": [
    "p1.mynameage()"
   ]
  },
  {
   "cell_type": "markdown",
   "metadata": {},
   "source": [
    "## Create an Child Class\n",
    "\n",
    "To create an child class which interites the functionality from other class, send the parrent class as parameter when creating child class.\n",
    "\n",
    "### Example\n",
    "\n",
    "Create a class named Student, which will inherit the properties and methods from the Person class:"
   ]
  },
  {
   "cell_type": "code",
   "execution_count": 7,
   "metadata": {},
   "outputs": [],
   "source": [
    "class Student(Person):\n",
    "    pass"
   ]
  },
  {
   "cell_type": "code",
   "execution_count": 10,
   "metadata": {},
   "outputs": [],
   "source": [
    "P=Student('amish','Kumar',26)"
   ]
  },
  {
   "cell_type": "code",
   "execution_count": 12,
   "metadata": {},
   "outputs": [
    {
     "name": "stdout",
     "output_type": "stream",
     "text": [
      "My name: amish Kumar\n",
      "age: 26\n"
     ]
    }
   ],
   "source": [
    "P.mynameage()"
   ]
  },
  {
   "cell_type": "markdown",
   "metadata": {},
   "source": [
    "# Add the $__init__()$ Function\n",
    "\n",
    "So far we have created a child class that inherits the properties and methods from its parent.\n",
    "\n",
    "We want to add the $__init__()$ function to the child class (instead of the pass keyword).\n",
    "\n",
    "**Note:** The $__init__()$ function is called automatically every time the class is being used to create a new object.\n"
   ]
  },
  {
   "cell_type": "markdown",
   "metadata": {},
   "source": [
    "### Example\n",
    "\n",
    "Add the $__init__()$ function to the Student class:"
   ]
  },
  {
   "cell_type": "code",
   "execution_count": 72,
   "metadata": {},
   "outputs": [],
   "source": [
    "class Student(Person):\n",
    "  def __init__(self, fname, lname,age):\n",
    "    Person.__init__(self, fname, lname,age) "
   ]
  },
  {
   "cell_type": "markdown",
   "metadata": {},
   "source": [
    "When you add the $__init__()$ function, the child class will no longer inherit the parent's $__init__()$ function.\n",
    "\n",
    "Note: The child's $__init__()$ function overrides the inheritance of the parent's $__init__()$ function.\n",
    "\n",
    "To keep the inheritance of the parent's $__init__()$  function, add a call to the parent's $__init__()$ function:"
   ]
  },
  {
   "cell_type": "code",
   "execution_count": 73,
   "metadata": {},
   "outputs": [],
   "source": [
    "P=Student('amish','Kumar',25)"
   ]
  },
  {
   "cell_type": "code",
   "execution_count": 74,
   "metadata": {},
   "outputs": [
    {
     "name": "stdout",
     "output_type": "stream",
     "text": [
      "My name: amish Kumar\n",
      "age: 25\n"
     ]
    }
   ],
   "source": [
    "P.mynameage()"
   ]
  },
  {
   "cell_type": "markdown",
   "metadata": {},
   "source": [
    "# Use the *super( )* Function\n",
    "\n",
    "Python also has a *super( )* function that will make the child class inherit all the methods and properties from its parent:"
   ]
  },
  {
   "cell_type": "code",
   "execution_count": 93,
   "metadata": {},
   "outputs": [],
   "source": [
    "class Person:\n",
    "    def __init__(self,fname,lname,age):\n",
    "        self.fname=fname\n",
    "        self.lname=lname\n",
    "        self.age=age\n",
    "    def mynameage(self):\n",
    "        print('My name: {} {}'.format(self.fname,self.lname))\n",
    "        print('age: {}'.format(self.age))    "
   ]
  },
  {
   "cell_type": "code",
   "execution_count": 94,
   "metadata": {},
   "outputs": [],
   "source": [
    "class Student(Person):\n",
    "  def __init__(self, fname, lname,age):\n",
    "    super().__init__(fname, lname, age)"
   ]
  },
  {
   "cell_type": "markdown",
   "metadata": {},
   "source": [
    "By using *super( )* class we dont have to use the name of parent. It will automatically inherit all properties of parent class"
   ]
  },
  {
   "cell_type": "code",
   "execution_count": 95,
   "metadata": {},
   "outputs": [
    {
     "name": "stdout",
     "output_type": "stream",
     "text": [
      "My name: amish Kumar\n",
      "age: 26\n"
     ]
    }
   ],
   "source": [
    "P=Student('amish','Kumar',26)\n",
    "P.mynameage()"
   ]
  },
  {
   "cell_type": "markdown",
   "metadata": {},
   "source": [
    "# Add Properties"
   ]
  },
  {
   "cell_type": "code",
   "execution_count": 96,
   "metadata": {},
   "outputs": [],
   "source": [
    "class Student(Person):\n",
    " def __init__(self, fname, lname, age, year):\n",
    "    super().__init__(fname,lname,age)\n",
    "    self.DOB=year"
   ]
  },
  {
   "cell_type": "code",
   "execution_count": 97,
   "metadata": {},
   "outputs": [],
   "source": [
    "P=Student('amish','Kumar',26,1991)"
   ]
  },
  {
   "cell_type": "code",
   "execution_count": 98,
   "metadata": {},
   "outputs": [
    {
     "data": {
      "text/plain": [
       "1991"
      ]
     },
     "execution_count": 98,
     "metadata": {},
     "output_type": "execute_result"
    }
   ],
   "source": [
    "P.DOB"
   ]
  },
  {
   "cell_type": "code",
   "execution_count": 99,
   "metadata": {},
   "outputs": [
    {
     "data": {
      "text/plain": [
       "'amish'"
      ]
     },
     "execution_count": 99,
     "metadata": {},
     "output_type": "execute_result"
    }
   ],
   "source": [
    "P.fname"
   ]
  },
  {
   "cell_type": "markdown",
   "metadata": {},
   "source": [
    "# Add Method"
   ]
  },
  {
   "cell_type": "code",
   "execution_count": 100,
   "metadata": {},
   "outputs": [],
   "source": [
    "class Student(Person):\n",
    " def __init__(self,fname,lname,age,year):\n",
    "    super().__init__(fname,lname,age)\n",
    "    self.DOB=year\n",
    " def welcome(self):\n",
    "    print('welcome {} {} to the class of {}'.format(self.fname,self.lname,self.DOB))"
   ]
  },
  {
   "cell_type": "code",
   "execution_count": 101,
   "metadata": {},
   "outputs": [],
   "source": [
    "P=Student('amish','Kumar',26,1991)"
   ]
  },
  {
   "cell_type": "code",
   "execution_count": 103,
   "metadata": {},
   "outputs": [
    {
     "name": "stdout",
     "output_type": "stream",
     "text": [
      "welcome amish Kumar to the class of 1991\n"
     ]
    }
   ],
   "source": [
    "P.welcome()"
   ]
  },
  {
   "cell_type": "markdown",
   "metadata": {},
   "source": [
    "**If you add a method in the child class with the same name as a function in the parent class, the inheritance of the parent method will be overridden.**"
   ]
  },
  {
   "cell_type": "code",
   "execution_count": null,
   "metadata": {},
   "outputs": [],
   "source": []
  }
 ],
 "metadata": {
  "kernelspec": {
   "display_name": "Python 3",
   "language": "python",
   "name": "python3"
  },
  "language_info": {
   "codemirror_mode": {
    "name": "ipython",
    "version": 3
   },
   "file_extension": ".py",
   "mimetype": "text/x-python",
   "name": "python",
   "nbconvert_exporter": "python",
   "pygments_lexer": "ipython3",
   "version": "3.6.10"
  }
 },
 "nbformat": 4,
 "nbformat_minor": 4
}
